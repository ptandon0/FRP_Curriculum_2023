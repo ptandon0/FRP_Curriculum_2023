{
  "nbformat": 4,
  "nbformat_minor": 0,
  "metadata": {
    "colab": {
      "provenance": [],
      "authorship_tag": "ABX9TyOO2YbAnJBo1RBRqonCYusi",
      "include_colab_link": true
    },
    "kernelspec": {
      "name": "python3",
      "display_name": "Python 3"
    },
    "language_info": {
      "name": "python"
    }
  },
  "cells": [
    {
      "cell_type": "markdown",
      "metadata": {
        "id": "view-in-github",
        "colab_type": "text"
      },
      "source": [
        "<a href=\"https://colab.research.google.com/github/ptandon0/FRP_Curriculum_2023/blob/main/FRP_Curriculum_Getting_and_Knowing_Data.ipynb\" target=\"_parent\"><img src=\"https://colab.research.google.com/assets/colab-badge.svg\" alt=\"Open In Colab\"/></a>"
      ]
    },
    {
      "cell_type": "markdown",
      "source": [
        "<a href=\"http://cds-dev01.mountsinai.org/\">\n",
        "<img src='https://upload.wikimedia.org/wikipedia/commons/b/b1/Mount_Sinai_Health_System_Logo.jpg' alt=\"Drawing\" style=\"width: 300px;float: left;\"> </a>"
      ],
      "metadata": {
        "id": "GS4W-zXsFcAf"
      }
    },
    {
      "cell_type": "markdown",
      "source": [
        "# **Fellows Research Program - Getting and Knowing Data**\n",
        "\n",
        "Before you start addressing your research questions, you should have a familiarity with the data you are working with.\n",
        "\n",
        "This process is called *data exploration*. You should have some understanding of what data you have fetched, and what its limitations are, and what it can do for you before using it for further work.\n",
        "\n",
        "Here we are using a python code notebook to obtain and explore a dataset; however, ignore the code and focus more on the questions we are asking and looking at the tables and figures."
      ],
      "metadata": {
        "id": "eDOGcvTDFqyy"
      }
    },
    {
      "cell_type": "markdown",
      "source": [
        "## **What are some questions to ask about your data when you first recieve a dataset?**"
      ],
      "metadata": {
        "id": "g5c87dgLGxVj"
      }
    },
    {
      "cell_type": "code",
      "source": [
        "#@title Fellows Responses Go Here!\n",
        "\n",
        "import ipywidgets as widgets\n",
        "from IPython.display import display, Markdown\n",
        "button = widgets.Button(description=\"Add Response!\")\n",
        "inp = widgets.Text(description='response:')\n",
        "Box = widgets.HBox([inp, button])\n",
        "\n",
        "value_list = []\n",
        "\n",
        "def on_button_clicked(b):\n",
        "    value_list.append(inp.value)\n",
        "    display(Markdown((\"- \" + value_list.pop())))\n",
        "\n",
        "button.on_click(on_button_clicked)\n",
        "Box"
      ],
      "metadata": {
        "cellView": "form",
        "id": "Ki5xpqxEiRjg"
      },
      "execution_count": null,
      "outputs": []
    },
    {
      "cell_type": "code",
      "source": [
        "#@title Questions I think of when getting a new dataset for the first time are:\n",
        "\n",
        "text = \"\"\"\n",
        "- What is the size of my dataset?\n",
        "- How many columns and how many rows?\n",
        "- Also are any rows duplicated?\n",
        "- What does each row mean?\n",
        "- How are rows linked?\n",
        "- What datatypes are in each column? (strings, numbers, other)\n",
        "- How much missingness is there, and are missing data random?\n",
        "- What are the distinct values in each categorical column? How are they distributed?\n",
        "- What is the distribution of data in each numerical column?\n",
        "- Are any of the rows colinear or directly related to each other?\n",
        "\"\"\"\n",
        "\n",
        "display(Markdown(text))\n"
      ],
      "metadata": {
        "cellView": "form",
        "id": "L4oRywPVoCX_"
      },
      "execution_count": null,
      "outputs": []
    },
    {
      "cell_type": "markdown",
      "source": [
        "## **Let's Practice with a very popular learning dataset - the Chipotle Orders Dataset from Kaggle** ##\n",
        "\n",
        "## **Importing and first impressions of dataset** ##"
      ],
      "metadata": {
        "id": "i5scXGTcISlK"
      }
    },
    {
      "cell_type": "markdown",
      "source": [
        "<a href=\"http://cds-dev01.mountsinai.org/\">\n",
        "<img src='https://upload.wikimedia.org/wikipedia/commons/thumb/7/71/Chipotle_Brandon.jpeg/2880px-Chipotle_Brandon.jpeg' alt=\"Drawing\" style=\"width: 200px;float: left;\"> </a>"
      ],
      "metadata": {
        "id": "TMO50c8CAzj4"
      }
    },
    {
      "cell_type": "markdown",
      "source": [],
      "metadata": {
        "id": "q35ofqacAqU3"
      }
    },
    {
      "cell_type": "code",
      "source": [
        "#@title Importing libaries and chipotle data\n",
        "\n",
        "import pandas as pd\n",
        "import numpy as np\n",
        "from datetime import timedelta, datetime\n",
        "import seaborn as sns\n",
        "import matplotlib.pyplot as plt\n",
        "from collections import Counter\n",
        "from scipy import stats\n",
        "\n",
        "%matplotlib inline\n",
        "\n",
        "# import chipotle dataset\n",
        "url = 'https://raw.githubusercontent.com/justmarkham/DAT8/master/data/chipotle.tsv'\n",
        "chipo = pd.read_csv(url, sep = '\\t')"
      ],
      "metadata": {
        "id": "VETtPAmuFSzx",
        "cellView": "form"
      },
      "execution_count": null,
      "outputs": []
    },
    {
      "cell_type": "markdown",
      "source": [
        "\n",
        "### First, just look through the data with your eyes and scroll around."
      ],
      "metadata": {
        "id": "mNNUqfn9JTko"
      }
    },
    {
      "cell_type": "code",
      "source": [
        "#@title What do you see?\n",
        "\n",
        "chipo.head(50)"
      ],
      "metadata": {
        "id": "rkEAwwPPJOeI",
        "cellView": "form"
      },
      "execution_count": null,
      "outputs": []
    },
    {
      "cell_type": "code",
      "source": [
        "#@title What is the size of this dataset?\n",
        "print(\"There are\", chipo.shape[0], \"rows and\", chipo.shape[1],\"columns in this dataset.\")"
      ],
      "metadata": {
        "id": "moS--pCHKVHg",
        "cellView": "form"
      },
      "execution_count": null,
      "outputs": []
    },
    {
      "cell_type": "code",
      "source": [
        "#@title Are Any Rows Duplicated?\n",
        "\n",
        "print(\"There are\", chipo.shape[0] - chipo.drop_duplicates().shape[0], \"duplicate rows in this dataset\")"
      ],
      "metadata": {
        "id": "4NrQHEOBKql9",
        "cellView": "form"
      },
      "execution_count": null,
      "outputs": []
    },
    {
      "cell_type": "code",
      "source": [
        "#@title What Do the Duplicate Rows Look Like?\n",
        "\n",
        "print(\"The duplicate rows are:\")\n",
        "chipo[chipo.duplicated(keep=False)]"
      ],
      "metadata": {
        "id": "VMBPFgKlNUHX",
        "cellView": "form"
      },
      "execution_count": null,
      "outputs": []
    },
    {
      "cell_type": "code",
      "source": [
        "#@title Remove the duplicate rows.\n",
        "\n",
        "chipo = chipo.drop_duplicates()\n",
        "print(\"The dataset without duplicates has\", chipo.shape[0], \"rows and\", chipo.shape[1], \"columns. \\n It looks like this:\")\n",
        "chipo.head(20)"
      ],
      "metadata": {
        "id": "I4DGGoZ5NZyM",
        "cellView": "form"
      },
      "execution_count": null,
      "outputs": []
    },
    {
      "cell_type": "markdown",
      "source": [
        "### What does each row mean?\n",
        "\n",
        "### What are the column names?\n",
        "\n",
        "### Are rows linked?\n",
        "\n",
        "### What is your expected datatype in each column?"
      ],
      "metadata": {
        "id": "0MMRA-bMP6Tv"
      }
    },
    {
      "cell_type": "code",
      "source": [
        "#@title Show the actual datatypes in each column\n",
        "chipo.dtypes"
      ],
      "metadata": {
        "id": "Sh11UvVdQXYQ",
        "cellView": "form"
      },
      "execution_count": null,
      "outputs": []
    },
    {
      "cell_type": "markdown",
      "source": [
        "Choice Description just says \"object\" and I'm not sure what is inside or its structure. Lets open up that one column so we can read the whole text and see what we can find out."
      ],
      "metadata": {
        "id": "XkiNaQiJBqHl"
      }
    },
    {
      "cell_type": "code",
      "source": [
        "#@title Look inside choice description column\n",
        "list(chipo.choice_description.head(50))"
      ],
      "metadata": {
        "id": "PviylBc-QyCq",
        "cellView": "form"
      },
      "execution_count": null,
      "outputs": []
    },
    {
      "cell_type": "code",
      "source": [
        "#@title What is the datatype and underlying structure to the choice_description column?\n",
        "\n",
        "text = \"\"\"\n",
        "- Drinks have a string of a list with a single element which flavor of izze.\n",
        "- Entres have a string version of [[salsas1, salsa2], [topping1, topping2]].\n",
        "- But if there is only one element in each list they have it as just [salsa, [topping1, topping2]] or [[salsa1, salsa2], topping].\n",
        "- From what we have seen we cannot know if there are any entres with no toppings or no salsas.\n",
        "- This will pose specific cleaning issues later on if we chose to explore toppings and salsas.\n",
        "\"\"\"\n",
        "\n",
        "button = widgets.Button(description=\"Show Response!\")\n",
        "Box = widgets.HBox([button])\n",
        "\n",
        "value_list = []\n",
        "\n",
        "def on_button_clicked(b):\n",
        "    display(Markdown(text))\n",
        "\n",
        "button.on_click(on_button_clicked)\n",
        "Box"
      ],
      "metadata": {
        "cellView": "form",
        "id": "Sh1ksK1l4RC_"
      },
      "execution_count": null,
      "outputs": []
    },
    {
      "cell_type": "markdown",
      "source": [
        "### Can we transform the item_price column into something workable?\n",
        "\n",
        "The price column is a string of text that starts with \"$\", followed by a number with two decimal places. To do things like calculate cost per order we need to discard the dollar sign and transfrom the text into a decimal number we can add/subtract/multiply/etc.\n"
      ],
      "metadata": {
        "id": "bvSIjDH7f9G-"
      }
    },
    {
      "cell_type": "code",
      "source": [
        "#@title Add numeric price column, add price per item column\n",
        "\n",
        "chipo[\"total_price\"] = chipo.item_price.str.slice(1).apply(float)\n",
        "chipo[\"price_per_item\"] = chipo.total_price / chipo.quantity\n",
        "\n",
        "print(chipo.dtypes)\n",
        "chipo.head(10)"
      ],
      "metadata": {
        "id": "7uRTBtLVRbMK",
        "cellView": "form"
      },
      "execution_count": null,
      "outputs": []
    },
    {
      "cell_type": "code",
      "source": [
        "#@title What data are missing? Is there a pattern?\n",
        "\n",
        "\n",
        "chipo.isna().sum()"
      ],
      "metadata": {
        "id": "2N33XQirgaW7",
        "cellView": "form"
      },
      "execution_count": null,
      "outputs": []
    },
    {
      "cell_type": "markdown",
      "source": [
        "Only choice_description is null. Lets see what is null there."
      ],
      "metadata": {
        "id": "WcphMHDriemh"
      }
    },
    {
      "cell_type": "code",
      "source": [
        "#@title Only choice_description is null. Lets see what is null there.\n",
        "chipo[chipo.choice_description.isnull()]\n"
      ],
      "metadata": {
        "id": "8KO9quZ8ibCk",
        "cellView": "form"
      },
      "execution_count": null,
      "outputs": []
    },
    {
      "cell_type": "code",
      "source": [
        "#@title Lets look at all the unique items with no choice description\n",
        "print(\"The items with null choice_description are:\")\n",
        "chipo[chipo.choice_description.isnull()].item_name.unique().tolist()"
      ],
      "metadata": {
        "cellView": "form",
        "id": "6p6lIrA4rZSO"
      },
      "execution_count": null,
      "outputs": []
    },
    {
      "cell_type": "markdown",
      "source": [
        "Only assorted chips +/- salsa and bottled water have a null choice description."
      ],
      "metadata": {
        "id": "LP1SKi5ljI57"
      }
    },
    {
      "cell_type": "markdown",
      "source": [
        "## **Let's assess what some of the values are in the dataset** ##"
      ],
      "metadata": {
        "id": "csnPJM7Fjh6L"
      }
    },
    {
      "cell_type": "markdown",
      "source": [
        "### Can we generally describe the numerical values in the dataset? Most of your data handling environments will have a \"describe' function of some kind."
      ],
      "metadata": {
        "id": "7Iiv5UcNjtBY"
      }
    },
    {
      "cell_type": "code",
      "source": [
        "chipo.describe()"
      ],
      "metadata": {
        "id": "hSubWm5fiubO"
      },
      "execution_count": null,
      "outputs": []
    },
    {
      "cell_type": "markdown",
      "source": [
        "This is one good way to *look for outliers*. What sticks out to you?\n",
        "\n",
        "- somebody ordered 15 of one thing in an order?\n",
        "\n",
        "- What item costs $44?\n",
        "\n",
        "- What item only costs $1.09?\n"
      ],
      "metadata": {
        "id": "N7B7O9fykIg4"
      }
    },
    {
      "cell_type": "code",
      "source": [
        "chipo.sort_values(\"quantity\", ascending=False).head(10)"
      ],
      "metadata": {
        "id": "5WqiHFiMj8Kj"
      },
      "execution_count": null,
      "outputs": []
    },
    {
      "cell_type": "code",
      "source": [
        "chipo.sort_values(\"price_per_item\")"
      ],
      "metadata": {
        "id": "lRGFW4NYkijh"
      },
      "execution_count": null,
      "outputs": []
    },
    {
      "cell_type": "markdown",
      "source": [
        "##Can we visualize some of the distribution?"
      ],
      "metadata": {
        "id": "tUyXPx30ogqY"
      }
    },
    {
      "cell_type": "code",
      "source": [
        "#@title What is the distribution of total price per line item?\n",
        "\n",
        "ax = chipo.total_price.hist()\n",
        "ax.set_title(\"Distribution of total price per line item\")"
      ],
      "metadata": {
        "id": "TE29OZwLomkR",
        "cellView": "form"
      },
      "execution_count": null,
      "outputs": []
    },
    {
      "cell_type": "code",
      "source": [
        "#@title What about for the quantity of items per order?\n",
        "print(chipo.groupby(\"order_id\")[\"quantity\"].sum().describe())\n",
        "\n",
        "ax  = chipo.groupby(\"order_id\")[\"quantity\"].sum().hist()\n",
        "ax.set_title(\"Distribution of quanity items per order \")"
      ],
      "metadata": {
        "id": "KWQI7Udko_XK",
        "cellView": "form"
      },
      "execution_count": null,
      "outputs": []
    },
    {
      "cell_type": "code",
      "source": [
        "#@title What is the distribution of total price per order?\n",
        "print(chipo.groupby(\"order_id\")[\"total_price\"].sum().describe())\n",
        "ax = chipo.groupby(\"order_id\")[\"total_price\"].sum().hist()\n",
        "ax.set_title(\"Distribution of total price per order\")"
      ],
      "metadata": {
        "id": "qj7KAexGp5ko",
        "cellView": "form"
      },
      "execution_count": null,
      "outputs": []
    },
    {
      "cell_type": "code",
      "source": [
        "#@title Is the price per item constant, or does it vary over time and or store?\n",
        "by_item = chipo.groupby(\"item_name\").agg({\"price_per_item\": [\"max\", \"min\"]})\n",
        "by_item[\"item_price_range\"] = round(by_item[\"price_per_item\"][\"max\"] - by_item[\"price_per_item\"][\"min\"],2)\n",
        "by_item_out = by_item[by_item.item_price_range > 0].sort_values(\"item_price_range\", ascending=False)\n",
        "by_item_out"
      ],
      "metadata": {
        "id": "xzsc29DW0aWX",
        "cellView": "form"
      },
      "execution_count": null,
      "outputs": []
    },
    {
      "cell_type": "code",
      "source": [
        "#@title Can we visualize the price variation per item?\n",
        "\n",
        "ax = by_item.item_price_range.hist()\n",
        "ax.set_title(\"Distribution of range of prices per item\")"
      ],
      "metadata": {
        "id": "X9yU7_xD0748",
        "cellView": "form"
      },
      "execution_count": null,
      "outputs": []
    },
    {
      "cell_type": "markdown",
      "source": [
        "Beautiful bimodal distribution with drinks, chips and water on one side with almost no price variance, and main dishes on the other side which vary in price a lot."
      ],
      "metadata": {
        "id": "iZxGsIW84eEh"
      }
    },
    {
      "cell_type": "markdown",
      "source": [
        "## What about the categorical data, what does it look like? ###"
      ],
      "metadata": {
        "id": "B4qlRp5Ompl6"
      }
    },
    {
      "cell_type": "code",
      "source": [
        "#@title Item Names - what are the unique items sold?\n",
        "chipo.item_name.unique().tolist()"
      ],
      "metadata": {
        "id": "WmmoZ4NQmoZD",
        "cellView": "form"
      },
      "execution_count": null,
      "outputs": []
    },
    {
      "cell_type": "code",
      "source": [
        "#@title How many of each are sold? What are the top and bottom sellers?\n",
        "chipo.groupby(\"item_name\")[\"order_id\"].count().sort_values(ascending=False)"
      ],
      "metadata": {
        "id": "fGmM8AoMm0FB",
        "cellView": "form"
      },
      "execution_count": null,
      "outputs": []
    },
    {
      "cell_type": "code",
      "source": [
        "#@title Can we make this into a visual graph?\n",
        "chipo.groupby(\"item_name\")[\"order_id\"].count().sort_values(ascending=False).plot(kind=\"bar\")"
      ],
      "metadata": {
        "id": "TLfwSZGSm9aK",
        "cellView": "form"
      },
      "execution_count": null,
      "outputs": []
    },
    {
      "cell_type": "code",
      "source": [
        "#@title This is very busy, why don't we separate it out into drinks, sides, and mains?\n",
        "\n",
        "drinks = ['Izze','Nantucket Nectar','Bottled Water', '6 Pack Soft Drink', 'Canned Soda', 'Canned Soft Drink', ]\n",
        "\n",
        "sides = ['Chips and Fresh Tomato Salsa','Chips and Tomatillo-Green Chili Salsa','Side of Chips','Chips and Guacamole','Chips and Tomatillo Green Chili Salsa','Chips','Chips and Tomatillo Red Chili Salsa',\n",
        "          'Chips and Roasted Chili-Corn Salsa','Chips and Roasted Chili Corn Salsa','Chips and Tomatillo-Red Chili Salsa','Chips and Mild Fresh Tomato Salsa']\n",
        "\n",
        "\n",
        "mains = list(set(chipo.item_name) - set(drinks) - set(sides))\n",
        "\n",
        "print(\"The drinks are\", drinks)\n",
        "print(\"The sides are\", sides)\n",
        "print(\"The mains are\", mains)"
      ],
      "metadata": {
        "id": "aAvvPygWnowl",
        "cellView": "form"
      },
      "execution_count": null,
      "outputs": []
    },
    {
      "cell_type": "code",
      "source": [
        "#@title What are the most popular drinks?\n",
        "\n",
        "ax = chipo[chipo.item_name.isin(drinks)].groupby(\"item_name\")[\"quantity\"].sum().sort_values(ascending=False).plot(kind=\"bar\", rot = -45)\n",
        "ax.set_title(\"Number of drinks ordered in Chipotle Orderset\")"
      ],
      "metadata": {
        "id": "O_OuvyJ8s2Sl",
        "cellView": "form"
      },
      "execution_count": null,
      "outputs": []
    },
    {
      "cell_type": "code",
      "source": [
        "#@title What are the most popular sides?\n",
        "\n",
        "ax = chipo[chipo.item_name.isin(sides)].groupby(\"item_name\")[\"quantity\"].sum().sort_values(ascending=False).plot(kind=\"bar\", rot = -70)\n",
        "ax.set_title(\"Number of sides ordered in Chipotle Orderset\")"
      ],
      "metadata": {
        "id": "_XFQu4u-tA6W",
        "cellView": "form"
      },
      "execution_count": null,
      "outputs": []
    },
    {
      "cell_type": "code",
      "source": [
        "#@title Does this graph seem right to you?\n",
        "\n",
        "text = \"\"\"\n",
        "#### How is it possible that Chips and fresh tomato salsa is the least seller??\n",
        "\n",
        "#### Notice that many of these sides are actually synonyms of each other with slightly different text.\n",
        "\n",
        "#### \"Mild Fresh Tomato\" vs \"Fresh Tomato\"; \"Tomatillo-Green\" vs \"Tomatillo Green\"\n",
        "\n",
        "#### If we didn't catch this and then started working, the result would be wrong.\n",
        "\n",
        "#### The same error is visible in the previous graph as \"Canned Soft Drink\" vs \"Canned Soda\"\n",
        "\n",
        "#### We need to clean this up.\n",
        "\"\"\"\n",
        "\n",
        "\n",
        "display(Markdown(text))"
      ],
      "metadata": {
        "cellView": "form",
        "id": "wq1ZZNZq_GqH"
      },
      "execution_count": null,
      "outputs": []
    },
    {
      "cell_type": "code",
      "source": [
        "#@title Clean up the item names with a map of dirty and clean names and re-plot\n",
        "\n",
        "drinks_dict = {\n",
        "  'Izze':'Izze',\n",
        " 'Nantucket Nectar':\"Nantucket Nectar\",\n",
        " 'Bottled Water':\"Bottled Water\",\n",
        " '6 Pack Soft Drink':\"6 Pack Soft Drink\",\n",
        " 'Canned Soda':'Canned Soda',\n",
        " 'Canned Soft Drink':'Canned Soda'\n",
        "}\n",
        "\n",
        "mains_dict = {\n",
        " 'Veggie Burrito':'Veggie Burrito',\n",
        " 'Barbacoa Bowl': 'Barbacoa Bowl',\n",
        " 'Barbacoa Soft Tacos': 'Barbacoa Soft Tacos',\n",
        " 'Steak Salad': 'Steak Salad',\n",
        " 'Carnitas Soft Tacos': 'Carnitas Soft Tacos',\n",
        " 'Carnitas Bowl': 'Carnitas Bowl',\n",
        " 'Barbacoa Crispy Tacos':'Barbacoa Crispy Tacos',\n",
        " 'Chicken Salad':'Chicken Salad',\n",
        " 'Carnitas Burrito':'Carnitas Burrito',\n",
        " 'Steak Crispy Tacos': 'Steak Crispy Tacos',\n",
        " 'Chicken Soft Tacos': 'Chicken Soft Tacos',\n",
        " 'Veggie Salad': 'Veggie Salad',\n",
        " 'Veggie Salad Bowl': 'Veggie Salad',\n",
        " 'Veggie Crispy Tacos': 'Veggie Crispy Tacos',\n",
        " 'Crispy Tacos':'Unk Crispy Tacos',\n",
        " 'Bowl': 'Unk Bowl',\n",
        " 'Chicken Burrito':'Chicken Burrito',\n",
        " 'Burrito':'Unk Burrito',\n",
        " 'Steak Soft Tacos':'Steak Soft Tacos',\n",
        " 'Carnitas Salad':'Carnitas Salad',\n",
        " 'Chicken Crispy Tacos':'Chicken Crispy Tacos',\n",
        " 'Barbacoa Salad Bowl':'Barbacoa Salad Bowl',\n",
        " 'Steak Burrito':'Steak Burrito',\n",
        " 'Carnitas Salad Bowl':'Carnitas Salad Bowl',\n",
        " 'Steak Bowl':\"Steak Bowl\",\n",
        " 'Salad':'Unk Salad',\n",
        " 'Steak Salad Bowl':'Steak Salad',\n",
        " 'Barbacoa Burrito':'Barbacoa Burrito',\n",
        " 'Chicken Salad Bowl':'Chicken Salad',\n",
        " 'Veggie Bowl':'Veggie Bowl',\n",
        " 'Veggie Soft Tacos':'Veggie Soft Tacos',\n",
        " 'Carnitas Crispy Tacos':'Carnitas Crispy Tacos',\n",
        " 'Chicken Bowl':'Chicken Bowl'\n",
        "}\n",
        "\n",
        "sides_dict = {'Chips and Fresh Tomato Salsa' : \"Chips and Fresh Tomato Salsa\",\n",
        " 'Chips and Tomatillo-Green Chili Salsa': 'Chips and Tomatillo-Green Chili Salsa',\n",
        " 'Side of Chips':'Side of Chips, no Salsa',\n",
        " 'Chips and Guacamole': 'Chips and Guacamole',\n",
        " 'Chips and Tomatillo Green Chili Salsa': 'Chips and Tomatillo-Green Chili Salsa',\n",
        " 'Chips':'Side of Chips, no Salsa',\n",
        " 'Chips and Tomatillo Red Chili Salsa':'Chips and Tomatillo-Red Chili Salsa',\n",
        " 'Chips and Roasted Chili-Corn Salsa':'Chips and Corn Salsa',\n",
        " 'Chips and Roasted Chili Corn Salsa':'Chips and Corn Salsa',\n",
        " 'Chips and Tomatillo-Red Chili Salsa':'Chips and Tomatillo-Red Chili Salsa',\n",
        " 'Chips and Mild Fresh Tomato Salsa':'Chips and Fresh Tomato Salsa'}\n",
        "\n",
        "names_dict = {}\n",
        "names_dict.update(drinks_dict)\n",
        "names_dict.update(sides_dict)\n",
        "names_dict.update(mains_dict)\n",
        "\n",
        "chipo[\"item_name_cleaned\"] = chipo.item_name.apply(lambda x: names_dict[x])\n",
        "ax = chipo[chipo.item_name.isin(sides_names)].groupby(\"item_name_cleaned\")[\"quantity\"].sum().sort_values(ascending=False).plot(kind=\"bar\", rot = -80)\n",
        "ax.set_title(\"Number of sides ordered in Chipotle Orderset\")"
      ],
      "metadata": {
        "cellView": "form",
        "id": "tBVCn9DO8gtb"
      },
      "execution_count": null,
      "outputs": []
    },
    {
      "cell_type": "code",
      "source": [
        "#@title Ah, this is better\n",
        "\n",
        "display(Markdown(\"Who orders chips and corn salsa? Makes sense it is the least popular\"))"
      ],
      "metadata": {
        "cellView": "form",
        "id": "v-ZYdtVhJJ5b"
      },
      "execution_count": null,
      "outputs": []
    },
    {
      "cell_type": "code",
      "source": [
        "#@title What are the most popular mains?\n",
        "ax = chipo[chipo.item_name.isin(mains)].groupby(\"item_name_cleaned\")[\"quantity\"].sum().sort_values(ascending=False).plot(kind=\"bar\", rot = -80)\n",
        "ax.set_title(\"Number of mains ordered in Chipotle Orderset\")"
      ],
      "metadata": {
        "id": "HH9mAAndt9M_",
        "cellView": "form"
      },
      "execution_count": null,
      "outputs": []
    },
    {
      "cell_type": "markdown",
      "source": [
        "#### If we wanted to we could do things like figure out what kind of izze is most popular, split the mains into tacos, bowls, burritos, and salads, etc."
      ],
      "metadata": {
        "id": "8pBUL-7LuhAI"
      }
    },
    {
      "cell_type": "markdown",
      "source": [
        "## **Surely a lot of this must be automated by now?** ##"
      ],
      "metadata": {
        "id": "y4BlvzVRxXYf"
      }
    },
    {
      "cell_type": "markdown",
      "source": [
        "### Why yes, there are premade packages you can use to explore data. Especially as we start looking at 2x2 correlations. ###"
      ],
      "metadata": {
        "id": "hxqfy5ikxj3P"
      }
    },
    {
      "cell_type": "code",
      "source": [
        "#@title Plot correlation heatmap of numeric data in the dataframe.\n",
        "\n",
        "corr = chipo[[\"quantity\", \"item_name\", \"total_price\", \"price_per_item\"]].corr(numeric_only=True)\n",
        "\n",
        "heatmap = sns.heatmap(corr, annot=True, cmap=\"Blues\", fmt='.1g')\n",
        "\n"
      ],
      "metadata": {
        "id": "LbMtjySuJSVe",
        "cellView": "form"
      },
      "execution_count": null,
      "outputs": []
    },
    {
      "cell_type": "markdown",
      "source": [
        "As Expected, because total price = price per item * quantity, the correlation between these are 0.9.\n",
        "\n",
        " Price_per_item and quantity are not directly correlated, this makes sense because the price doesn't change if you buy more or less.\n",
        "\n",
        " Let's visualize that by doing a pairwise scatterplot."
      ],
      "metadata": {
        "id": "Ga_ZmgHyJ0nR"
      }
    },
    {
      "cell_type": "code",
      "source": [
        "#@title Plot a pair plot grouped by item_name for the top 10 items.\n",
        "\n",
        "top10 = chipo.groupby(\"item_name_cleaned\")[\"quantity\"].sum().sort_values(ascending=False).head(10).index.tolist()\n",
        "\n",
        "sns.pairplot(chipo[chipo.item_name.isin(top10)][[\"quantity\", \"item_name_cleaned\", \"total_price\", \"price_per_item\"]], hue=\"item_name_cleaned\")"
      ],
      "metadata": {
        "id": "CTtBBDSIxiS1",
        "cellView": "form"
      },
      "execution_count": null,
      "outputs": []
    },
    {
      "cell_type": "code",
      "source": [
        "#@title What are some things we can notice?\n",
        "\n",
        "text = \"\"\"\n",
        "## Total Price vs Quantity (r=0.3)\n",
        "- Line item price and quanity are actually perfectly correlated within each item (that might be obvious)\n",
        "- The slope of the line is a surrogate for price.\n",
        "- Water (lavender) is cheap - slope is most flat\n",
        "- Chips and guac (red) are medium priced, so slope is midling\n",
        "- Chicken burrito and Chicken bowl (purple and orange) are expensive, buying more greatly increases the price - slope is very high.\n",
        "\n",
        "## Quantity vs Price per Item (r=-0.1)\n",
        "\n",
        "Notice two groupings; one is high price low quantity\n",
        "- steak burrito, chicken bowl, chicken burrito, steak bowl, chicken salad\n",
        "\n",
        "One is low price higher quantity\n",
        "- chips and guac, chips and salsa, bottled water, canned soda\n",
        "\"\"\"\n",
        "\n",
        "display(Markdown(text))"
      ],
      "metadata": {
        "cellView": "form",
        "id": "LyUBe4cSAYkq"
      },
      "execution_count": null,
      "outputs": []
    },
    {
      "cell_type": "markdown",
      "source": [
        "#### Google colab also provides a built-in data explorer, click the icons next to the raw dataframe"
      ],
      "metadata": {
        "id": "PvfZOCnx2PuM"
      }
    },
    {
      "cell_type": "code",
      "source": [
        "chipo"
      ],
      "metadata": {
        "id": "n-60_DBdyG4-"
      },
      "execution_count": null,
      "outputs": []
    },
    {
      "cell_type": "markdown",
      "source": [
        "## **Now you have a pretty good sense of what is in the dataset, began cleaning it, and will be able to move forward to answer questions you may have.** ##"
      ],
      "metadata": {
        "id": "UP9KdoTd27QW"
      }
    },
    {
      "cell_type": "code",
      "source": [],
      "metadata": {
        "id": "1z7A5Lb0N3kU"
      },
      "execution_count": null,
      "outputs": []
    }
  ]
}